{
  "nbformat": 4,
  "nbformat_minor": 0,
  "metadata": {
    "colab": {
      "provenance": [],
      "mount_file_id": "15jC5omhD-QnYiEBzLPMkq7kvQj443y1b",
      "authorship_tag": "ABX9TyNIcmBIXedAtJirUikZXfdn",
      "include_colab_link": true
    },
    "kernelspec": {
      "name": "python3",
      "display_name": "Python 3"
    },
    "language_info": {
      "name": "python"
    }
  },
  "cells": [
    {
      "cell_type": "markdown",
      "metadata": {
        "id": "view-in-github",
        "colab_type": "text"
      },
      "source": [
        "<a href=\"https://colab.research.google.com/github/itsJonnie/Movie-Recommendation-System/blob/main/Movie_Recommendation_System.ipynb\" target=\"_parent\"><img src=\"https://colab.research.google.com/assets/colab-badge.svg\" alt=\"Open In Colab\"/></a>"
      ]
    },
    {
      "cell_type": "code",
      "source": [
        "from google.colab import drive\n",
        "drive.mount('/content/drive')"
      ],
      "metadata": {
        "colab": {
          "base_uri": "https://localhost:8080/"
        },
        "id": "5jxSx-Tlu2or",
        "outputId": "00385c66-d67f-48fa-f1d6-6e2197b2cea1"
      },
      "execution_count": 1,
      "outputs": [
        {
          "output_type": "stream",
          "name": "stdout",
          "text": [
            "Drive already mounted at /content/drive; to attempt to forcibly remount, call drive.mount(\"/content/drive\", force_remount=True).\n"
          ]
        }
      ]
    },
    {
      "cell_type": "code",
      "execution_count": 2,
      "metadata": {
        "id": "aBriEc4NCNP2"
      },
      "outputs": [],
      "source": [
        "# INSTALL REQUIRED LIBRARIES:\n",
        "# pip install pandas numpy scikit-learn"
      ]
    },
    {
      "cell_type": "code",
      "source": [
        "#Import Libraries\n",
        "\n",
        "from sklearn.neighbors import NearestNeighbors\n",
        "from sklearn.model_selection import train_test_split\n",
        "import pandas as pd\n",
        "import numpy as np\n",
        "import matplotlib.pyplot as plt\n",
        "import seaborn as sns\n",
        "\n",
        "# For inline plots in Jupyter/Colab\n",
        "%matplotlib inline\n"
      ],
      "metadata": {
        "id": "Ecnze3IvXBmq"
      },
      "execution_count": 3,
      "outputs": []
    },
    {
      "cell_type": "markdown",
      "source": [
        "# Data Preprocessing"
      ],
      "metadata": {
        "id": "a-4d85peFisS"
      }
    },
    {
      "cell_type": "markdown",
      "source": [
        "### Read data into notebook from ML-100K.zip (https://grouplens.org/datasets/movielens/100k/)"
      ],
      "metadata": {
        "id": "Cwh37pAf0p9E"
      }
    },
    {
      "cell_type": "code",
      "source": [
        "file_path = \"/content/drive/My Drive/Colab Notebooks/Datasets//ml-100k.zip\"\n",
        "\n",
        "import os\n",
        "if os.path.exists(file_path):\n",
        "    print(\"File found!\")\n",
        "else:\n",
        "    print(\"File not found. Check the path.\")\n"
      ],
      "metadata": {
        "colab": {
          "base_uri": "https://localhost:8080/"
        },
        "id": "zN8J-kY4vmNy",
        "outputId": "8bcb31ff-46a3-42e6-95f7-45c58a1d622e"
      },
      "execution_count": 4,
      "outputs": [
        {
          "output_type": "stream",
          "name": "stdout",
          "text": [
            "File found!\n"
          ]
        }
      ]
    },
    {
      "cell_type": "code",
      "source": [
        "import zipfile\n",
        "\n",
        "file_path = \"/content/drive/My Drive/Colab Notebooks/Datasets/ml-100k.zip\"\n",
        "\n",
        "with zipfile.ZipFile(file_path, \"r\") as zip_ref:\n",
        "    zip_ref.extractall(\"/content\")  # Extract to /content instead\n",
        "\n",
        "import os\n",
        "print(\"After extraction, /content contains:\", os.listdir(\"/content\"))\n",
        "\n"
      ],
      "metadata": {
        "colab": {
          "base_uri": "https://localhost:8080/"
        },
        "id": "3zSCdUkywL-o",
        "outputId": "c4a537ed-01f6-4726-ae03-79178bf27e9f"
      },
      "execution_count": 5,
      "outputs": [
        {
          "output_type": "stream",
          "name": "stdout",
          "text": [
            "After extraction, /content contains: ['.config', 'drive', 'ml-100k', 'sample_data']\n"
          ]
        }
      ]
    },
    {
      "cell_type": "code",
      "source": [
        "ratings_path = \"/content/ml-100k/u.data\"\n",
        "movies_path = \"/content/ml-100k/u.item\"\n",
        "\n",
        "print(os.listdir(\"/content/ml-100k\"))\n",
        "\n",
        "# The u.data file is tab-separated (\\t) and does not have a header row, so we must provide column names\n",
        "ratings = pd.read_csv(\n",
        "    ratings_path,\n",
        "    sep=\"\\t\",\n",
        "    names=[\"userId\", \"movieId\", \"rating\", \"timestamp\"]\n",
        ")\n",
        "\n"
      ],
      "metadata": {
        "colab": {
          "base_uri": "https://localhost:8080/"
        },
        "id": "YPTKqgrQxRDd",
        "outputId": "9ac75526-3e0f-4717-cd5a-27b9fedfaea2"
      },
      "execution_count": 6,
      "outputs": [
        {
          "output_type": "stream",
          "name": "stdout",
          "text": [
            "['mku.sh', 'u4.test', 'u4.base', 'README', 'ua.base', 'allbut.pl', 'u1.test', 'u2.test', 'u3.base', 'u.user', 'u5.test', 'u.item', 'u3.test', 'u2.base', 'u1.base', 'u5.base', 'u.info', 'u.data', 'ub.base', 'u.genre', 'ua.test', 'ub.test', 'u.occupation']\n"
          ]
        }
      ]
    },
    {
      "cell_type": "code",
      "source": [
        "movies = pd.read_csv(movies_path, sep=\"|\", encoding=\"latin-1\", names=[\n",
        "    \"movieId\", \"title\", \"release_date\", \"video_release_date\", \"IMDB_url\",\n",
        "    \"unknown\", \"Action\", \"Adventure\", \"Animation\", \"Children\", \"Comedy\", \"Crime\",\n",
        "    \"Documentary\", \"Drama\", \"Fantasy\", \"Film-Noir\", \"Horror\", \"Musical\", \"Mystery\",\n",
        "    \"Romance\", \"Sci-Fi\", \"Thriller\", \"War\", \"Western\"\n",
        "], usecols=[0, 1])  # Only keeping movieId and title\n",
        "\n",
        "# Merge ratings with movie titles\n",
        "df = ratings.merge(movies, on=\"movieId\")\n",
        "\n",
        "# Display first few rows\n",
        "df.head()\n"
      ],
      "metadata": {
        "colab": {
          "base_uri": "https://localhost:8080/",
          "height": 206
        },
        "id": "gPHjhoXxCtEV",
        "outputId": "fa6ad467-221d-4182-c549-12312ba43380"
      },
      "execution_count": 7,
      "outputs": [
        {
          "output_type": "execute_result",
          "data": {
            "text/plain": [
              "   userId  movieId  rating  timestamp                       title\n",
              "0     196      242       3  881250949                Kolya (1996)\n",
              "1     186      302       3  891717742    L.A. Confidential (1997)\n",
              "2      22      377       1  878887116         Heavyweights (1994)\n",
              "3     244       51       2  880606923  Legends of the Fall (1994)\n",
              "4     166      346       1  886397596         Jackie Brown (1997)"
            ],
            "text/html": [
              "\n",
              "  <div id=\"df-0b01b902-548d-472b-8cfe-b7ec245a8bc0\" class=\"colab-df-container\">\n",
              "    <div>\n",
              "<style scoped>\n",
              "    .dataframe tbody tr th:only-of-type {\n",
              "        vertical-align: middle;\n",
              "    }\n",
              "\n",
              "    .dataframe tbody tr th {\n",
              "        vertical-align: top;\n",
              "    }\n",
              "\n",
              "    .dataframe thead th {\n",
              "        text-align: right;\n",
              "    }\n",
              "</style>\n",
              "<table border=\"1\" class=\"dataframe\">\n",
              "  <thead>\n",
              "    <tr style=\"text-align: right;\">\n",
              "      <th></th>\n",
              "      <th>userId</th>\n",
              "      <th>movieId</th>\n",
              "      <th>rating</th>\n",
              "      <th>timestamp</th>\n",
              "      <th>title</th>\n",
              "    </tr>\n",
              "  </thead>\n",
              "  <tbody>\n",
              "    <tr>\n",
              "      <th>0</th>\n",
              "      <td>196</td>\n",
              "      <td>242</td>\n",
              "      <td>3</td>\n",
              "      <td>881250949</td>\n",
              "      <td>Kolya (1996)</td>\n",
              "    </tr>\n",
              "    <tr>\n",
              "      <th>1</th>\n",
              "      <td>186</td>\n",
              "      <td>302</td>\n",
              "      <td>3</td>\n",
              "      <td>891717742</td>\n",
              "      <td>L.A. Confidential (1997)</td>\n",
              "    </tr>\n",
              "    <tr>\n",
              "      <th>2</th>\n",
              "      <td>22</td>\n",
              "      <td>377</td>\n",
              "      <td>1</td>\n",
              "      <td>878887116</td>\n",
              "      <td>Heavyweights (1994)</td>\n",
              "    </tr>\n",
              "    <tr>\n",
              "      <th>3</th>\n",
              "      <td>244</td>\n",
              "      <td>51</td>\n",
              "      <td>2</td>\n",
              "      <td>880606923</td>\n",
              "      <td>Legends of the Fall (1994)</td>\n",
              "    </tr>\n",
              "    <tr>\n",
              "      <th>4</th>\n",
              "      <td>166</td>\n",
              "      <td>346</td>\n",
              "      <td>1</td>\n",
              "      <td>886397596</td>\n",
              "      <td>Jackie Brown (1997)</td>\n",
              "    </tr>\n",
              "  </tbody>\n",
              "</table>\n",
              "</div>\n",
              "    <div class=\"colab-df-buttons\">\n",
              "\n",
              "  <div class=\"colab-df-container\">\n",
              "    <button class=\"colab-df-convert\" onclick=\"convertToInteractive('df-0b01b902-548d-472b-8cfe-b7ec245a8bc0')\"\n",
              "            title=\"Convert this dataframe to an interactive table.\"\n",
              "            style=\"display:none;\">\n",
              "\n",
              "  <svg xmlns=\"http://www.w3.org/2000/svg\" height=\"24px\" viewBox=\"0 -960 960 960\">\n",
              "    <path d=\"M120-120v-720h720v720H120Zm60-500h600v-160H180v160Zm220 220h160v-160H400v160Zm0 220h160v-160H400v160ZM180-400h160v-160H180v160Zm440 0h160v-160H620v160ZM180-180h160v-160H180v160Zm440 0h160v-160H620v160Z\"/>\n",
              "  </svg>\n",
              "    </button>\n",
              "\n",
              "  <style>\n",
              "    .colab-df-container {\n",
              "      display:flex;\n",
              "      gap: 12px;\n",
              "    }\n",
              "\n",
              "    .colab-df-convert {\n",
              "      background-color: #E8F0FE;\n",
              "      border: none;\n",
              "      border-radius: 50%;\n",
              "      cursor: pointer;\n",
              "      display: none;\n",
              "      fill: #1967D2;\n",
              "      height: 32px;\n",
              "      padding: 0 0 0 0;\n",
              "      width: 32px;\n",
              "    }\n",
              "\n",
              "    .colab-df-convert:hover {\n",
              "      background-color: #E2EBFA;\n",
              "      box-shadow: 0px 1px 2px rgba(60, 64, 67, 0.3), 0px 1px 3px 1px rgba(60, 64, 67, 0.15);\n",
              "      fill: #174EA6;\n",
              "    }\n",
              "\n",
              "    .colab-df-buttons div {\n",
              "      margin-bottom: 4px;\n",
              "    }\n",
              "\n",
              "    [theme=dark] .colab-df-convert {\n",
              "      background-color: #3B4455;\n",
              "      fill: #D2E3FC;\n",
              "    }\n",
              "\n",
              "    [theme=dark] .colab-df-convert:hover {\n",
              "      background-color: #434B5C;\n",
              "      box-shadow: 0px 1px 3px 1px rgba(0, 0, 0, 0.15);\n",
              "      filter: drop-shadow(0px 1px 2px rgba(0, 0, 0, 0.3));\n",
              "      fill: #FFFFFF;\n",
              "    }\n",
              "  </style>\n",
              "\n",
              "    <script>\n",
              "      const buttonEl =\n",
              "        document.querySelector('#df-0b01b902-548d-472b-8cfe-b7ec245a8bc0 button.colab-df-convert');\n",
              "      buttonEl.style.display =\n",
              "        google.colab.kernel.accessAllowed ? 'block' : 'none';\n",
              "\n",
              "      async function convertToInteractive(key) {\n",
              "        const element = document.querySelector('#df-0b01b902-548d-472b-8cfe-b7ec245a8bc0');\n",
              "        const dataTable =\n",
              "          await google.colab.kernel.invokeFunction('convertToInteractive',\n",
              "                                                    [key], {});\n",
              "        if (!dataTable) return;\n",
              "\n",
              "        const docLinkHtml = 'Like what you see? Visit the ' +\n",
              "          '<a target=\"_blank\" href=https://colab.research.google.com/notebooks/data_table.ipynb>data table notebook</a>'\n",
              "          + ' to learn more about interactive tables.';\n",
              "        element.innerHTML = '';\n",
              "        dataTable['output_type'] = 'display_data';\n",
              "        await google.colab.output.renderOutput(dataTable, element);\n",
              "        const docLink = document.createElement('div');\n",
              "        docLink.innerHTML = docLinkHtml;\n",
              "        element.appendChild(docLink);\n",
              "      }\n",
              "    </script>\n",
              "  </div>\n",
              "\n",
              "\n",
              "<div id=\"df-2b37f86f-8f70-43f8-848f-bfce0bc6cd58\">\n",
              "  <button class=\"colab-df-quickchart\" onclick=\"quickchart('df-2b37f86f-8f70-43f8-848f-bfce0bc6cd58')\"\n",
              "            title=\"Suggest charts\"\n",
              "            style=\"display:none;\">\n",
              "\n",
              "<svg xmlns=\"http://www.w3.org/2000/svg\" height=\"24px\"viewBox=\"0 0 24 24\"\n",
              "     width=\"24px\">\n",
              "    <g>\n",
              "        <path d=\"M19 3H5c-1.1 0-2 .9-2 2v14c0 1.1.9 2 2 2h14c1.1 0 2-.9 2-2V5c0-1.1-.9-2-2-2zM9 17H7v-7h2v7zm4 0h-2V7h2v10zm4 0h-2v-4h2v4z\"/>\n",
              "    </g>\n",
              "</svg>\n",
              "  </button>\n",
              "\n",
              "<style>\n",
              "  .colab-df-quickchart {\n",
              "      --bg-color: #E8F0FE;\n",
              "      --fill-color: #1967D2;\n",
              "      --hover-bg-color: #E2EBFA;\n",
              "      --hover-fill-color: #174EA6;\n",
              "      --disabled-fill-color: #AAA;\n",
              "      --disabled-bg-color: #DDD;\n",
              "  }\n",
              "\n",
              "  [theme=dark] .colab-df-quickchart {\n",
              "      --bg-color: #3B4455;\n",
              "      --fill-color: #D2E3FC;\n",
              "      --hover-bg-color: #434B5C;\n",
              "      --hover-fill-color: #FFFFFF;\n",
              "      --disabled-bg-color: #3B4455;\n",
              "      --disabled-fill-color: #666;\n",
              "  }\n",
              "\n",
              "  .colab-df-quickchart {\n",
              "    background-color: var(--bg-color);\n",
              "    border: none;\n",
              "    border-radius: 50%;\n",
              "    cursor: pointer;\n",
              "    display: none;\n",
              "    fill: var(--fill-color);\n",
              "    height: 32px;\n",
              "    padding: 0;\n",
              "    width: 32px;\n",
              "  }\n",
              "\n",
              "  .colab-df-quickchart:hover {\n",
              "    background-color: var(--hover-bg-color);\n",
              "    box-shadow: 0 1px 2px rgba(60, 64, 67, 0.3), 0 1px 3px 1px rgba(60, 64, 67, 0.15);\n",
              "    fill: var(--button-hover-fill-color);\n",
              "  }\n",
              "\n",
              "  .colab-df-quickchart-complete:disabled,\n",
              "  .colab-df-quickchart-complete:disabled:hover {\n",
              "    background-color: var(--disabled-bg-color);\n",
              "    fill: var(--disabled-fill-color);\n",
              "    box-shadow: none;\n",
              "  }\n",
              "\n",
              "  .colab-df-spinner {\n",
              "    border: 2px solid var(--fill-color);\n",
              "    border-color: transparent;\n",
              "    border-bottom-color: var(--fill-color);\n",
              "    animation:\n",
              "      spin 1s steps(1) infinite;\n",
              "  }\n",
              "\n",
              "  @keyframes spin {\n",
              "    0% {\n",
              "      border-color: transparent;\n",
              "      border-bottom-color: var(--fill-color);\n",
              "      border-left-color: var(--fill-color);\n",
              "    }\n",
              "    20% {\n",
              "      border-color: transparent;\n",
              "      border-left-color: var(--fill-color);\n",
              "      border-top-color: var(--fill-color);\n",
              "    }\n",
              "    30% {\n",
              "      border-color: transparent;\n",
              "      border-left-color: var(--fill-color);\n",
              "      border-top-color: var(--fill-color);\n",
              "      border-right-color: var(--fill-color);\n",
              "    }\n",
              "    40% {\n",
              "      border-color: transparent;\n",
              "      border-right-color: var(--fill-color);\n",
              "      border-top-color: var(--fill-color);\n",
              "    }\n",
              "    60% {\n",
              "      border-color: transparent;\n",
              "      border-right-color: var(--fill-color);\n",
              "    }\n",
              "    80% {\n",
              "      border-color: transparent;\n",
              "      border-right-color: var(--fill-color);\n",
              "      border-bottom-color: var(--fill-color);\n",
              "    }\n",
              "    90% {\n",
              "      border-color: transparent;\n",
              "      border-bottom-color: var(--fill-color);\n",
              "    }\n",
              "  }\n",
              "</style>\n",
              "\n",
              "  <script>\n",
              "    async function quickchart(key) {\n",
              "      const quickchartButtonEl =\n",
              "        document.querySelector('#' + key + ' button');\n",
              "      quickchartButtonEl.disabled = true;  // To prevent multiple clicks.\n",
              "      quickchartButtonEl.classList.add('colab-df-spinner');\n",
              "      try {\n",
              "        const charts = await google.colab.kernel.invokeFunction(\n",
              "            'suggestCharts', [key], {});\n",
              "      } catch (error) {\n",
              "        console.error('Error during call to suggestCharts:', error);\n",
              "      }\n",
              "      quickchartButtonEl.classList.remove('colab-df-spinner');\n",
              "      quickchartButtonEl.classList.add('colab-df-quickchart-complete');\n",
              "    }\n",
              "    (() => {\n",
              "      let quickchartButtonEl =\n",
              "        document.querySelector('#df-2b37f86f-8f70-43f8-848f-bfce0bc6cd58 button');\n",
              "      quickchartButtonEl.style.display =\n",
              "        google.colab.kernel.accessAllowed ? 'block' : 'none';\n",
              "    })();\n",
              "  </script>\n",
              "</div>\n",
              "\n",
              "    </div>\n",
              "  </div>\n"
            ],
            "application/vnd.google.colaboratory.intrinsic+json": {
              "type": "dataframe",
              "variable_name": "df",
              "summary": "{\n  \"name\": \"df\",\n  \"rows\": 100000,\n  \"fields\": [\n    {\n      \"column\": \"userId\",\n      \"properties\": {\n        \"dtype\": \"number\",\n        \"std\": 266,\n        \"min\": 1,\n        \"max\": 943,\n        \"num_unique_values\": 943,\n        \"samples\": [\n          262,\n          136,\n          821\n        ],\n        \"semantic_type\": \"\",\n        \"description\": \"\"\n      }\n    },\n    {\n      \"column\": \"movieId\",\n      \"properties\": {\n        \"dtype\": \"number\",\n        \"std\": 330,\n        \"min\": 1,\n        \"max\": 1682,\n        \"num_unique_values\": 1682,\n        \"samples\": [\n          1557,\n          808,\n          1618\n        ],\n        \"semantic_type\": \"\",\n        \"description\": \"\"\n      }\n    },\n    {\n      \"column\": \"rating\",\n      \"properties\": {\n        \"dtype\": \"number\",\n        \"std\": 1,\n        \"min\": 1,\n        \"max\": 5,\n        \"num_unique_values\": 5,\n        \"samples\": [\n          1,\n          5,\n          2\n        ],\n        \"semantic_type\": \"\",\n        \"description\": \"\"\n      }\n    },\n    {\n      \"column\": \"timestamp\",\n      \"properties\": {\n        \"dtype\": \"number\",\n        \"std\": 5343856,\n        \"min\": 874724710,\n        \"max\": 893286638,\n        \"num_unique_values\": 49282,\n        \"samples\": [\n          889728713,\n          888443306,\n          880605158\n        ],\n        \"semantic_type\": \"\",\n        \"description\": \"\"\n      }\n    },\n    {\n      \"column\": \"title\",\n      \"properties\": {\n        \"dtype\": \"category\",\n        \"num_unique_values\": 1664,\n        \"samples\": [\n          \"House Party 3 (1994)\",\n          \"Three Colors: White (1994)\",\n          \"Fish Called Wanda, A (1988)\"\n        ],\n        \"semantic_type\": \"\",\n        \"description\": \"\"\n      }\n    }\n  ]\n}"
            }
          },
          "metadata": {},
          "execution_count": 7
        }
      ]
    },
    {
      "cell_type": "code",
      "source": [
        "# change timestamp to a String Format (e.g., \"YYYY-MM-DD HH:MM:SS\")\n",
        "\n",
        "df['timestamp'] = pd.to_datetime(df['timestamp'], unit='s').dt.strftime('%Y-%m-%d %H:%M:%S')\n",
        "df.head()\n"
      ],
      "metadata": {
        "colab": {
          "base_uri": "https://localhost:8080/",
          "height": 206
        },
        "id": "zT7UEJUyyXn0",
        "outputId": "b22ce9c1-4c00-4621-acb2-12c78ec2d4b8"
      },
      "execution_count": 8,
      "outputs": [
        {
          "output_type": "execute_result",
          "data": {
            "text/plain": [
              "   userId  movieId  rating            timestamp                       title\n",
              "0     196      242       3  1997-12-04 15:55:49                Kolya (1996)\n",
              "1     186      302       3  1998-04-04 19:22:22    L.A. Confidential (1997)\n",
              "2      22      377       1  1997-11-07 07:18:36         Heavyweights (1994)\n",
              "3     244       51       2  1997-11-27 05:02:03  Legends of the Fall (1994)\n",
              "4     166      346       1  1998-02-02 05:33:16         Jackie Brown (1997)"
            ],
            "text/html": [
              "\n",
              "  <div id=\"df-3084674c-3e62-4dc0-a194-5a170dfe547d\" class=\"colab-df-container\">\n",
              "    <div>\n",
              "<style scoped>\n",
              "    .dataframe tbody tr th:only-of-type {\n",
              "        vertical-align: middle;\n",
              "    }\n",
              "\n",
              "    .dataframe tbody tr th {\n",
              "        vertical-align: top;\n",
              "    }\n",
              "\n",
              "    .dataframe thead th {\n",
              "        text-align: right;\n",
              "    }\n",
              "</style>\n",
              "<table border=\"1\" class=\"dataframe\">\n",
              "  <thead>\n",
              "    <tr style=\"text-align: right;\">\n",
              "      <th></th>\n",
              "      <th>userId</th>\n",
              "      <th>movieId</th>\n",
              "      <th>rating</th>\n",
              "      <th>timestamp</th>\n",
              "      <th>title</th>\n",
              "    </tr>\n",
              "  </thead>\n",
              "  <tbody>\n",
              "    <tr>\n",
              "      <th>0</th>\n",
              "      <td>196</td>\n",
              "      <td>242</td>\n",
              "      <td>3</td>\n",
              "      <td>1997-12-04 15:55:49</td>\n",
              "      <td>Kolya (1996)</td>\n",
              "    </tr>\n",
              "    <tr>\n",
              "      <th>1</th>\n",
              "      <td>186</td>\n",
              "      <td>302</td>\n",
              "      <td>3</td>\n",
              "      <td>1998-04-04 19:22:22</td>\n",
              "      <td>L.A. Confidential (1997)</td>\n",
              "    </tr>\n",
              "    <tr>\n",
              "      <th>2</th>\n",
              "      <td>22</td>\n",
              "      <td>377</td>\n",
              "      <td>1</td>\n",
              "      <td>1997-11-07 07:18:36</td>\n",
              "      <td>Heavyweights (1994)</td>\n",
              "    </tr>\n",
              "    <tr>\n",
              "      <th>3</th>\n",
              "      <td>244</td>\n",
              "      <td>51</td>\n",
              "      <td>2</td>\n",
              "      <td>1997-11-27 05:02:03</td>\n",
              "      <td>Legends of the Fall (1994)</td>\n",
              "    </tr>\n",
              "    <tr>\n",
              "      <th>4</th>\n",
              "      <td>166</td>\n",
              "      <td>346</td>\n",
              "      <td>1</td>\n",
              "      <td>1998-02-02 05:33:16</td>\n",
              "      <td>Jackie Brown (1997)</td>\n",
              "    </tr>\n",
              "  </tbody>\n",
              "</table>\n",
              "</div>\n",
              "    <div class=\"colab-df-buttons\">\n",
              "\n",
              "  <div class=\"colab-df-container\">\n",
              "    <button class=\"colab-df-convert\" onclick=\"convertToInteractive('df-3084674c-3e62-4dc0-a194-5a170dfe547d')\"\n",
              "            title=\"Convert this dataframe to an interactive table.\"\n",
              "            style=\"display:none;\">\n",
              "\n",
              "  <svg xmlns=\"http://www.w3.org/2000/svg\" height=\"24px\" viewBox=\"0 -960 960 960\">\n",
              "    <path d=\"M120-120v-720h720v720H120Zm60-500h600v-160H180v160Zm220 220h160v-160H400v160Zm0 220h160v-160H400v160ZM180-400h160v-160H180v160Zm440 0h160v-160H620v160ZM180-180h160v-160H180v160Zm440 0h160v-160H620v160Z\"/>\n",
              "  </svg>\n",
              "    </button>\n",
              "\n",
              "  <style>\n",
              "    .colab-df-container {\n",
              "      display:flex;\n",
              "      gap: 12px;\n",
              "    }\n",
              "\n",
              "    .colab-df-convert {\n",
              "      background-color: #E8F0FE;\n",
              "      border: none;\n",
              "      border-radius: 50%;\n",
              "      cursor: pointer;\n",
              "      display: none;\n",
              "      fill: #1967D2;\n",
              "      height: 32px;\n",
              "      padding: 0 0 0 0;\n",
              "      width: 32px;\n",
              "    }\n",
              "\n",
              "    .colab-df-convert:hover {\n",
              "      background-color: #E2EBFA;\n",
              "      box-shadow: 0px 1px 2px rgba(60, 64, 67, 0.3), 0px 1px 3px 1px rgba(60, 64, 67, 0.15);\n",
              "      fill: #174EA6;\n",
              "    }\n",
              "\n",
              "    .colab-df-buttons div {\n",
              "      margin-bottom: 4px;\n",
              "    }\n",
              "\n",
              "    [theme=dark] .colab-df-convert {\n",
              "      background-color: #3B4455;\n",
              "      fill: #D2E3FC;\n",
              "    }\n",
              "\n",
              "    [theme=dark] .colab-df-convert:hover {\n",
              "      background-color: #434B5C;\n",
              "      box-shadow: 0px 1px 3px 1px rgba(0, 0, 0, 0.15);\n",
              "      filter: drop-shadow(0px 1px 2px rgba(0, 0, 0, 0.3));\n",
              "      fill: #FFFFFF;\n",
              "    }\n",
              "  </style>\n",
              "\n",
              "    <script>\n",
              "      const buttonEl =\n",
              "        document.querySelector('#df-3084674c-3e62-4dc0-a194-5a170dfe547d button.colab-df-convert');\n",
              "      buttonEl.style.display =\n",
              "        google.colab.kernel.accessAllowed ? 'block' : 'none';\n",
              "\n",
              "      async function convertToInteractive(key) {\n",
              "        const element = document.querySelector('#df-3084674c-3e62-4dc0-a194-5a170dfe547d');\n",
              "        const dataTable =\n",
              "          await google.colab.kernel.invokeFunction('convertToInteractive',\n",
              "                                                    [key], {});\n",
              "        if (!dataTable) return;\n",
              "\n",
              "        const docLinkHtml = 'Like what you see? Visit the ' +\n",
              "          '<a target=\"_blank\" href=https://colab.research.google.com/notebooks/data_table.ipynb>data table notebook</a>'\n",
              "          + ' to learn more about interactive tables.';\n",
              "        element.innerHTML = '';\n",
              "        dataTable['output_type'] = 'display_data';\n",
              "        await google.colab.output.renderOutput(dataTable, element);\n",
              "        const docLink = document.createElement('div');\n",
              "        docLink.innerHTML = docLinkHtml;\n",
              "        element.appendChild(docLink);\n",
              "      }\n",
              "    </script>\n",
              "  </div>\n",
              "\n",
              "\n",
              "<div id=\"df-9aa3f21d-8822-4c6a-bfb6-da12136fde95\">\n",
              "  <button class=\"colab-df-quickchart\" onclick=\"quickchart('df-9aa3f21d-8822-4c6a-bfb6-da12136fde95')\"\n",
              "            title=\"Suggest charts\"\n",
              "            style=\"display:none;\">\n",
              "\n",
              "<svg xmlns=\"http://www.w3.org/2000/svg\" height=\"24px\"viewBox=\"0 0 24 24\"\n",
              "     width=\"24px\">\n",
              "    <g>\n",
              "        <path d=\"M19 3H5c-1.1 0-2 .9-2 2v14c0 1.1.9 2 2 2h14c1.1 0 2-.9 2-2V5c0-1.1-.9-2-2-2zM9 17H7v-7h2v7zm4 0h-2V7h2v10zm4 0h-2v-4h2v4z\"/>\n",
              "    </g>\n",
              "</svg>\n",
              "  </button>\n",
              "\n",
              "<style>\n",
              "  .colab-df-quickchart {\n",
              "      --bg-color: #E8F0FE;\n",
              "      --fill-color: #1967D2;\n",
              "      --hover-bg-color: #E2EBFA;\n",
              "      --hover-fill-color: #174EA6;\n",
              "      --disabled-fill-color: #AAA;\n",
              "      --disabled-bg-color: #DDD;\n",
              "  }\n",
              "\n",
              "  [theme=dark] .colab-df-quickchart {\n",
              "      --bg-color: #3B4455;\n",
              "      --fill-color: #D2E3FC;\n",
              "      --hover-bg-color: #434B5C;\n",
              "      --hover-fill-color: #FFFFFF;\n",
              "      --disabled-bg-color: #3B4455;\n",
              "      --disabled-fill-color: #666;\n",
              "  }\n",
              "\n",
              "  .colab-df-quickchart {\n",
              "    background-color: var(--bg-color);\n",
              "    border: none;\n",
              "    border-radius: 50%;\n",
              "    cursor: pointer;\n",
              "    display: none;\n",
              "    fill: var(--fill-color);\n",
              "    height: 32px;\n",
              "    padding: 0;\n",
              "    width: 32px;\n",
              "  }\n",
              "\n",
              "  .colab-df-quickchart:hover {\n",
              "    background-color: var(--hover-bg-color);\n",
              "    box-shadow: 0 1px 2px rgba(60, 64, 67, 0.3), 0 1px 3px 1px rgba(60, 64, 67, 0.15);\n",
              "    fill: var(--button-hover-fill-color);\n",
              "  }\n",
              "\n",
              "  .colab-df-quickchart-complete:disabled,\n",
              "  .colab-df-quickchart-complete:disabled:hover {\n",
              "    background-color: var(--disabled-bg-color);\n",
              "    fill: var(--disabled-fill-color);\n",
              "    box-shadow: none;\n",
              "  }\n",
              "\n",
              "  .colab-df-spinner {\n",
              "    border: 2px solid var(--fill-color);\n",
              "    border-color: transparent;\n",
              "    border-bottom-color: var(--fill-color);\n",
              "    animation:\n",
              "      spin 1s steps(1) infinite;\n",
              "  }\n",
              "\n",
              "  @keyframes spin {\n",
              "    0% {\n",
              "      border-color: transparent;\n",
              "      border-bottom-color: var(--fill-color);\n",
              "      border-left-color: var(--fill-color);\n",
              "    }\n",
              "    20% {\n",
              "      border-color: transparent;\n",
              "      border-left-color: var(--fill-color);\n",
              "      border-top-color: var(--fill-color);\n",
              "    }\n",
              "    30% {\n",
              "      border-color: transparent;\n",
              "      border-left-color: var(--fill-color);\n",
              "      border-top-color: var(--fill-color);\n",
              "      border-right-color: var(--fill-color);\n",
              "    }\n",
              "    40% {\n",
              "      border-color: transparent;\n",
              "      border-right-color: var(--fill-color);\n",
              "      border-top-color: var(--fill-color);\n",
              "    }\n",
              "    60% {\n",
              "      border-color: transparent;\n",
              "      border-right-color: var(--fill-color);\n",
              "    }\n",
              "    80% {\n",
              "      border-color: transparent;\n",
              "      border-right-color: var(--fill-color);\n",
              "      border-bottom-color: var(--fill-color);\n",
              "    }\n",
              "    90% {\n",
              "      border-color: transparent;\n",
              "      border-bottom-color: var(--fill-color);\n",
              "    }\n",
              "  }\n",
              "</style>\n",
              "\n",
              "  <script>\n",
              "    async function quickchart(key) {\n",
              "      const quickchartButtonEl =\n",
              "        document.querySelector('#' + key + ' button');\n",
              "      quickchartButtonEl.disabled = true;  // To prevent multiple clicks.\n",
              "      quickchartButtonEl.classList.add('colab-df-spinner');\n",
              "      try {\n",
              "        const charts = await google.colab.kernel.invokeFunction(\n",
              "            'suggestCharts', [key], {});\n",
              "      } catch (error) {\n",
              "        console.error('Error during call to suggestCharts:', error);\n",
              "      }\n",
              "      quickchartButtonEl.classList.remove('colab-df-spinner');\n",
              "      quickchartButtonEl.classList.add('colab-df-quickchart-complete');\n",
              "    }\n",
              "    (() => {\n",
              "      let quickchartButtonEl =\n",
              "        document.querySelector('#df-9aa3f21d-8822-4c6a-bfb6-da12136fde95 button');\n",
              "      quickchartButtonEl.style.display =\n",
              "        google.colab.kernel.accessAllowed ? 'block' : 'none';\n",
              "    })();\n",
              "  </script>\n",
              "</div>\n",
              "\n",
              "    </div>\n",
              "  </div>\n"
            ],
            "application/vnd.google.colaboratory.intrinsic+json": {
              "type": "dataframe",
              "variable_name": "df",
              "summary": "{\n  \"name\": \"df\",\n  \"rows\": 100000,\n  \"fields\": [\n    {\n      \"column\": \"userId\",\n      \"properties\": {\n        \"dtype\": \"number\",\n        \"std\": 266,\n        \"min\": 1,\n        \"max\": 943,\n        \"num_unique_values\": 943,\n        \"samples\": [\n          262,\n          136,\n          821\n        ],\n        \"semantic_type\": \"\",\n        \"description\": \"\"\n      }\n    },\n    {\n      \"column\": \"movieId\",\n      \"properties\": {\n        \"dtype\": \"number\",\n        \"std\": 330,\n        \"min\": 1,\n        \"max\": 1682,\n        \"num_unique_values\": 1682,\n        \"samples\": [\n          1557,\n          808,\n          1618\n        ],\n        \"semantic_type\": \"\",\n        \"description\": \"\"\n      }\n    },\n    {\n      \"column\": \"rating\",\n      \"properties\": {\n        \"dtype\": \"number\",\n        \"std\": 1,\n        \"min\": 1,\n        \"max\": 5,\n        \"num_unique_values\": 5,\n        \"samples\": [\n          1,\n          5,\n          2\n        ],\n        \"semantic_type\": \"\",\n        \"description\": \"\"\n      }\n    },\n    {\n      \"column\": \"timestamp\",\n      \"properties\": {\n        \"dtype\": \"object\",\n        \"num_unique_values\": 49282,\n        \"samples\": [\n          \"1998-03-12 18:51:53\",\n          \"1998-02-25 21:48:26\",\n          \"1997-11-27 04:32:38\"\n        ],\n        \"semantic_type\": \"\",\n        \"description\": \"\"\n      }\n    },\n    {\n      \"column\": \"title\",\n      \"properties\": {\n        \"dtype\": \"category\",\n        \"num_unique_values\": 1664,\n        \"samples\": [\n          \"House Party 3 (1994)\",\n          \"Three Colors: White (1994)\",\n          \"Fish Called Wanda, A (1988)\"\n        ],\n        \"semantic_type\": \"\",\n        \"description\": \"\"\n      }\n    }\n  ]\n}"
            }
          },
          "metadata": {},
          "execution_count": 8
        }
      ]
    },
    {
      "cell_type": "markdown",
      "source": [],
      "metadata": {
        "id": "DFUSSOuN0gZA"
      }
    },
    {
      "cell_type": "markdown",
      "source": [
        "# Data Exploration"
      ],
      "metadata": {
        "id": "gEqMSa90F9sm"
      }
    },
    {
      "cell_type": "code",
      "source": [
        "# Basic descriptive statistics on ratings\n",
        "print(\"Ratings Summary:\")\n",
        "print(df['rating'].describe())\n",
        "\n",
        "# Number of unique users and movies\n",
        "num_users = df['userId'].nunique()\n",
        "num_movies = df['movieId'].nunique()\n",
        "print(f\"\\nNumber of users: {num_users}\")\n",
        "print(f\"Number of movies: {num_movies}\")\n"
      ],
      "metadata": {
        "colab": {
          "base_uri": "https://localhost:8080/"
        },
        "id": "cJSOZYP9IFql",
        "outputId": "9519d7a7-ad0c-4816-b3da-2faa426dbb9f"
      },
      "execution_count": 9,
      "outputs": [
        {
          "output_type": "stream",
          "name": "stdout",
          "text": [
            "Ratings Summary:\n",
            "count    100000.000000\n",
            "mean          3.529860\n",
            "std           1.125674\n",
            "min           1.000000\n",
            "25%           3.000000\n",
            "50%           4.000000\n",
            "75%           4.000000\n",
            "max           5.000000\n",
            "Name: rating, dtype: float64\n",
            "\n",
            "Number of users: 943\n",
            "Number of movies: 1682\n"
          ]
        }
      ]
    },
    {
      "cell_type": "markdown",
      "source": [
        "In this section, we will explore the distribution of ratings, the most popular movies, and more."
      ],
      "metadata": {
        "id": "h4-uputxH512"
      }
    },
    {
      "cell_type": "code",
      "source": [
        "# Rating Distribution\n",
        "\n",
        "plt.figure(figsize=(8, 4))\n",
        "sns.histplot(df['rating'], bins=5, kde=False) # bins = 5 for the 5 possible ratings (1–5).\n",
        "plt.title('Distribution of Movie Ratings')\n",
        "plt.xlabel('Rating')\n",
        "plt.ylabel('Count')\n",
        "plt.show()\n"
      ],
      "metadata": {
        "colab": {
          "base_uri": "https://localhost:8080/",
          "height": 410
        },
        "id": "TlAVkQ_dF_pw",
        "outputId": "c0f0ea36-7c5b-43a8-c466-657054c957da"
      },
      "execution_count": 10,
      "outputs": [
        {
          "output_type": "display_data",
          "data": {
            "text/plain": [
              "<Figure size 800x400 with 1 Axes>"
            ],
            "image/png": "[encoded data removed]"
          },
          "metadata": {}
        }
      ]
    },
    {
      "cell_type": "code",
      "source": [
        "ratings_count = df['title'].value_counts().sort_values(ascending=False).head(10)\n",
        "plt.figure(figsize=(10, 6))\n",
        "sns.barplot(x=ratings_count.values, y=ratings_count.index, palette='viridis')\n",
        "plt.title('Top 10 Most Rated Movies')\n",
        "plt.xlabel('Number of Ratings')\n",
        "plt.ylabel('Movie Title')\n",
        "plt.show()\n"
      ],
      "metadata": {
        "colab": {
          "base_uri": "https://localhost:8080/",
          "height": 673
        },
        "id": "b3BjdT1hG9HK",
        "outputId": "35af87ec-3df1-453a-9f70-e4cdebc568b1"
      },
      "execution_count": 11,
      "outputs": [
        {
          "output_type": "stream",
          "name": "stderr",
          "text": [
            "<ipython-input-11-750ef150d51f>:3: FutureWarning: \n",
            "\n",
            "Passing `palette` without assigning `hue` is deprecated and will be removed in v0.14.0. Assign the `y` variable to `hue` and set `legend=False` for the same effect.\n",
            "\n",
            "  sns.barplot(x=ratings_count.values, y=ratings_count.index, palette='viridis')\n"
          ]
        },
        {
          "output_type": "display_data",
          "data": {
            "text/plain": [
              "<Figure size 1000x600 with 1 Axes>"
            ],
            "image/png": "[encoded data removed]"
          },
          "metadata": {}
        }
      ]
    },
    {
      "cell_type": "code",
      "source": [
        "# Group by title and calculate average rating and rating count\n",
        "movie_stats = df.groupby('title').agg({'rating': ['mean', 'count']})\n",
        "# Flatten the MultiIndex columns\n",
        "movie_stats.columns = ['average_rating', 'rating_count']\n",
        "\n",
        "min_ratings = 100\n",
        "\n",
        "popular_movies = movie_stats[movie_stats['rating_count'] >= min_ratings]\n",
        "\n",
        "# Get the top 10 movies by average rating\n",
        "top_movies = popular_movies.sort_values('average_rating', ascending=False).head(10)"
      ],
      "metadata": {
        "id": "yYWW31VUJWsy"
      },
      "execution_count": 12,
      "outputs": []
    },
    {
      "cell_type": "code",
      "source": [
        "import matplotlib.cm as cm\n",
        "\n",
        "# Generate a list of colors from the viridis colormap for the number of movies\n",
        "n_movies = len(top_movies)\n",
        "colors = cm.viridis(np.linspace(0, 1, n_movies))\n",
        "# Convert the RGBA values to hex strings for use in Seaborn\n",
        "colors = [cm.colors.rgb2hex(c) for c in colors]\n",
        "\n",
        "plt.figure(figsize=(10, 6))\n",
        "# Create a bar plot with our custom sequential color palette\n",
        "ax = sns.barplot(x=top_movies['average_rating'].values, y=top_movies.index, palette=colors)\n",
        "\n",
        "plt.title(\"Top 10 Movies by Average Rating (Min Ratings: 50)\")\n",
        "plt.xlabel(\"Average Rating\")\n",
        "plt.ylabel(\"Movie Title\")\n",
        "plt.xlim(0, 5)  # Ratings range from 1 to 5\n",
        "\n",
        "# Annotate each bar with its rank (natural order)\n",
        "for i, rating in enumerate(top_movies['average_rating'].values):\n",
        "    # The highest-rated movie (first in the sorted order) gets Rank 1, etc.\n",
        "    ax.text(rating + 0.1, i, f\"Rank {i+1}\", color='black', va=\"center\", fontsize=10)\n",
        "\n",
        "plt.show()"
      ],
      "metadata": {
        "colab": {
          "base_uri": "https://localhost:8080/",
          "height": 673
        },
        "id": "Y1ELk94NJ6e5",
        "outputId": "d62d0057-1416-45c1-ae46-c3d3751ffcd6"
      },
      "execution_count": 13,
      "outputs": [
        {
          "output_type": "stream",
          "name": "stderr",
          "text": [
            "<ipython-input-13-1e3ab6551f15>:11: FutureWarning: \n",
            "\n",
            "Passing `palette` without assigning `hue` is deprecated and will be removed in v0.14.0. Assign the `y` variable to `hue` and set `legend=False` for the same effect.\n",
            "\n",
            "  ax = sns.barplot(x=top_movies['average_rating'].values, y=top_movies.index, palette=colors)\n"
          ]
        },
        {
          "output_type": "display_data",
          "data": {
            "text/plain": [
              "<Figure size 1000x600 with 1 Axes>"
            ],
            "image/png": "[encoded data removed]"
          },
          "metadata": {}
        }
      ]
    },
    {
      "cell_type": "markdown",
      "source": [
        "### Timestamp Analysis"
      ],
      "metadata": {
        "id": "7ofSGzodGGK5"
      }
    },
    {
      "cell_type": "code",
      "source": [
        "df['timestamp'] = pd.to_datetime(df['timestamp'])\n",
        "df['year'] = df['timestamp'].dt.year\n",
        "ratings_per_year = df.groupby('year')['rating'].count()\n",
        "plt.figure(figsize=(10, 4))\n",
        "sns.lineplot(x=ratings_per_year.index, y=ratings_per_year.values)\n",
        "plt.title('Number of Ratings per Year')\n",
        "plt.xlabel('Year')\n",
        "plt.ylabel('Number of Ratings')\n",
        "plt.show()\n"
      ],
      "metadata": {
        "colab": {
          "base_uri": "https://localhost:8080/",
          "height": 410
        },
        "id": "2Wq4QABeHtob",
        "outputId": "fe3a616a-5768-4737-e8ae-05b1edeab4d3"
      },
      "execution_count": 14,
      "outputs": [
        {
          "output_type": "display_data",
          "data": {
            "text/plain": [
              "<Figure size 1000x400 with 1 Axes>"
            ],
            "image/png": "[encoded data removed]"
          },
          "metadata": {}
        }
      ]
    },
    {
      "cell_type": "markdown",
      "source": [
        "# User-Based Collaborative Filtering with k-Nearest Neighbors\n",
        "\n",
        "> * Find neighbors using knn.kneighbors().\n",
        "* Gather each neighbor’s top-rated movies.\n",
        "* Exclude movies the current user has already seen.\n",
        "* Return a few unseen recommendations\n",
        "\n",
        "\n"
      ],
      "metadata": {
        "id": "vSbuVtbJ2nw9"
      }
    },
    {
      "cell_type": "markdown",
      "source": [
        "### Create a user-movie matrix where rows represent users, columns represent movies, & values are the user's rating for that movie & initialize and train the k-NN model using cosine similarity"
      ],
      "metadata": {
        "id": "DuvRluAkbAoQ"
      }
    },
    {
      "cell_type": "code",
      "source": [
        "# Split the full DataFrame into training and test sets\n",
        "df_train, df_test = train_test_split(df, test_size=0.2, random_state=42)\n",
        "print(\"Training ratings:\", len(df_train))\n",
        "print(\"Test ratings:\", len(df_test))\n",
        "\n",
        "# Create the filtered user-movie matrix for training data only\n",
        "def create_filtered_user_movie_matrix(df, min_movie_ratings=5, min_user_ratings=5):\n",
        "    \"\"\"\n",
        "    Create a user-movie matrix and filter out movies and users with very few ratings.\n",
        "    \"\"\"\n",
        "    matrix = df.pivot_table(index=\"userId\", columns=\"title\", values=\"rating\")\n",
        "    # Filter movies with fewer than min_movie_ratings\n",
        "    movie_rating_counts = df.groupby(\"title\")[\"rating\"].count()\n",
        "    movies_to_keep = movie_rating_counts[movie_rating_counts >= min_movie_ratings].index\n",
        "    matrix = matrix.loc[:, matrix.columns.isin(movies_to_keep)]\n",
        "    # Filter users with fewer than min_user_ratings\n",
        "    user_rating_counts = df.groupby(\"userId\")[\"rating\"].count()\n",
        "    users_to_keep = user_rating_counts[user_rating_counts >= min_user_ratings].index\n",
        "    matrix = matrix.loc[matrix.index.isin(users_to_keep)]\n",
        "    return matrix.fillna(0)\n",
        "\n",
        "# Build the user-movie matrix using training data\n",
        "train_user_movie_matrix = create_filtered_user_movie_matrix(df_train)\n",
        "print(\"Filtered training matrix shape:\", train_user_movie_matrix.shape)\n",
        "\n",
        "# Normalize the matrix by subtracting each user's mean rating (mean-centering)\n",
        "normalized_matrix = train_user_movie_matrix.sub(train_user_movie_matrix.mean(axis=1), axis=0).fillna(0)\n",
        "\n",
        "# Convert normalized matrix to a NumPy array for k-NN training\n",
        "train_matrix_np = normalized_matrix.to_numpy()\n",
        "print(\"Training matrix shape (normalized):\", train_matrix_np.shape)\n",
        "\n",
        "# Initialize and train the k-NN model using cosine similarity\n",
        "knn = NearestNeighbors(metric='cosine', algorithm='brute')\n",
        "knn.fit(train_matrix_np)"
      ],
      "metadata": {
        "colab": {
          "base_uri": "https://localhost:8080/",
          "height": 152
        },
        "id": "Cslo5Lg50Hiw",
        "outputId": "62b79619-23c2-4094-f390-351855125042"
      },
      "execution_count": 15,
      "outputs": [
        {
          "output_type": "stream",
          "name": "stdout",
          "text": [
            "Training ratings: 80000\n",
            "Test ratings: 20000\n",
            "Filtered training matrix shape: (943, 1289)\n",
            "Training matrix shape (normalized): (943, 1289)\n"
          ]
        },
        {
          "output_type": "execute_result",
          "data": {
            "text/plain": [
              "NearestNeighbors(algorithm='brute', metric='cosine')"
            ],
            "text/html": [
              "<style>#sk-container-id-1 {\n",
              "  /* Definition of color scheme common for light and dark mode */\n",
              "  --sklearn-color-text: #000;\n",
              "  --sklearn-color-text-muted: #666;\n",
              "  --sklearn-color-line: gray;\n",
              "  /* Definition of color scheme for unfitted estimators */\n",
              "  --sklearn-color-unfitted-level-0: #fff5e6;\n",
              "  --sklearn-color-unfitted-level-1: #f6e4d2;\n",
              "  --sklearn-color-unfitted-level-2: #ffe0b3;\n",
              "  --sklearn-color-unfitted-level-3: chocolate;\n",
              "  /* Definition of color scheme for fitted estimators */\n",
              "  --sklearn-color-fitted-level-0: #f0f8ff;\n",
              "  --sklearn-color-fitted-level-1: #d4ebff;\n",
              "  --sklearn-color-fitted-level-2: #b3dbfd;\n",
              "  --sklearn-color-fitted-level-3: cornflowerblue;\n",
              "\n",
              "  /* Specific color for light theme */\n",
              "  --sklearn-color-text-on-default-background: var(--sg-text-color, var(--theme-code-foreground, var(--jp-content-font-color1, black)));\n",
              "  --sklearn-color-background: var(--sg-background-color, var(--theme-background, var(--jp-layout-color0, white)));\n",
              "  --sklearn-color-border-box: var(--sg-text-color, var(--theme-code-foreground, var(--jp-content-font-color1, black)));\n",
              "  --sklearn-color-icon: #696969;\n",
              "\n",
              "  @media (prefers-color-scheme: dark) {\n",
              "    /* Redefinition of color scheme for dark theme */\n",
              "    --sklearn-color-text-on-default-background: var(--sg-text-color, var(--theme-code-foreground, var(--jp-content-font-color1, white)));\n",
              "    --sklearn-color-background: var(--sg-background-color, var(--theme-background, var(--jp-layout-color0, #111)));\n",
              "    --sklearn-color-border-box: var(--sg-text-color, var(--theme-code-foreground, var(--jp-content-font-color1, white)));\n",
              "    --sklearn-color-icon: #878787;\n",
              "  }\n",
              "}\n",
              "\n",
              "#sk-container-id-1 {\n",
              "  color: var(--sklearn-color-text);\n",
              "}\n",
              "\n",
              "#sk-container-id-1 pre {\n",
              "  padding: 0;\n",
              "}\n",
              "\n",
              "#sk-container-id-1 input.sk-hidden--visually {\n",
              "  border: 0;\n",
              "  clip: rect(1px 1px 1px 1px);\n",
              "  clip: rect(1px, 1px, 1px, 1px);\n",
              "  height: 1px;\n",
              "  margin: -1px;\n",
              "  overflow: hidden;\n",
              "  padding: 0;\n",
              "  position: absolute;\n",
              "  width: 1px;\n",
              "}\n",
              "\n",
              "#sk-container-id-1 div.sk-dashed-wrapped {\n",
              "  border: 1px dashed var(--sklearn-color-line);\n",
              "  margin: 0 0.4em 0.5em 0.4em;\n",
              "  box-sizing: border-box;\n",
              "  padding-bottom: 0.4em;\n",
              "  background-color: var(--sklearn-color-background);\n",
              "}\n",
              "\n",
              "#sk-container-id-1 div.sk-container {\n",
              "  /* jupyter's `normalize.less` sets `[hidden] { display: none; }`\n",
              "     but bootstrap.min.css set `[hidden] { display: none !important; }`\n",
              "     so we also need the `!important` here to be able to override the\n",
              "     default hidden behavior on the sphinx rendered scikit-learn.org.\n",
              "     See: https://github.com/scikit-learn/scikit-learn/issues/21755 */\n",
              "  display: inline-block !important;\n",
              "  position: relative;\n",
              "}\n",
              "\n",
              "#sk-container-id-1 div.sk-text-repr-fallback {\n",
              "  display: none;\n",
              "}\n",
              "\n",
              "div.sk-parallel-item,\n",
              "div.sk-serial,\n",
              "div.sk-item {\n",
              "  /* draw centered vertical line to link estimators */\n",
              "  background-image: linear-gradient(var(--sklearn-color-text-on-default-background), var(--sklearn-color-text-on-default-background));\n",
              "  background-size: 2px 100%;\n",
              "  background-repeat: no-repeat;\n",
              "  background-position: center center;\n",
              "}\n",
              "\n",
              "/* Parallel-specific style estimator block */\n",
              "\n",
              "#sk-container-id-1 div.sk-parallel-item::after {\n",
              "  content: \"\";\n",
              "  width: 100%;\n",
              "  border-bottom: 2px solid var(--sklearn-color-text-on-default-background);\n",
              "  flex-grow: 1;\n",
              "}\n",
              "\n",
              "#sk-container-id-1 div.sk-parallel {\n",
              "  display: flex;\n",
              "  align-items: stretch;\n",
              "  justify-content: center;\n",
              "  background-color: var(--sklearn-color-background);\n",
              "  position: relative;\n",
              "}\n",
              "\n",
              "#sk-container-id-1 div.sk-parallel-item {\n",
              "  display: flex;\n",
              "  flex-direction: column;\n",
              "}\n",
              "\n",
              "#sk-container-id-1 div.sk-parallel-item:first-child::after {\n",
              "  align-self: flex-end;\n",
              "  width: 50%;\n",
              "}\n",
              "\n",
              "#sk-container-id-1 div.sk-parallel-item:last-child::after {\n",
              "  align-self: flex-start;\n",
              "  width: 50%;\n",
              "}\n",
              "\n",
              "#sk-container-id-1 div.sk-parallel-item:only-child::after {\n",
              "  width: 0;\n",
              "}\n",
              "\n",
              "/* Serial-specific style estimator block */\n",
              "\n",
              "#sk-container-id-1 div.sk-serial {\n",
              "  display: flex;\n",
              "  flex-direction: column;\n",
              "  align-items: center;\n",
              "  background-color: var(--sklearn-color-background);\n",
              "  padding-right: 1em;\n",
              "  padding-left: 1em;\n",
              "}\n",
              "\n",
              "\n",
              "/* Toggleable style: style used for estimator/Pipeline/ColumnTransformer box that is\n",
              "clickable and can be expanded/collapsed.\n",
              "- Pipeline and ColumnTransformer use this feature and define the default style\n",
              "- Estimators will overwrite some part of the style using the `sk-estimator` class\n",
              "*/\n",
              "\n",
              "/* Pipeline and ColumnTransformer style (default) */\n",
              "\n",
              "#sk-container-id-1 div.sk-toggleable {\n",
              "  /* Default theme specific background. It is overwritten whether we have a\n",
              "  specific estimator or a Pipeline/ColumnTransformer */\n",
              "  background-color: var(--sklearn-color-background);\n",
              "}\n",
              "\n",
              "/* Toggleable label */\n",
              "#sk-container-id-1 label.sk-toggleable__label {\n",
              "  cursor: pointer;\n",
              "  display: flex;\n",
              "  width: 100%;\n",
              "  margin-bottom: 0;\n",
              "  padding: 0.5em;\n",
              "  box-sizing: border-box;\n",
              "  text-align: center;\n",
              "  align-items: start;\n",
              "  justify-content: space-between;\n",
              "  gap: 0.5em;\n",
              "}\n",
              "\n",
              "#sk-container-id-1 label.sk-toggleable__label .caption {\n",
              "  font-size: 0.6rem;\n",
              "  font-weight: lighter;\n",
              "  color: var(--sklearn-color-text-muted);\n",
              "}\n",
              "\n",
              "#sk-container-id-1 label.sk-toggleable__label-arrow:before {\n",
              "  /* Arrow on the left of the label */\n",
              "  content: \"▸\";\n",
              "  float: left;\n",
              "  margin-right: 0.25em;\n",
              "  color: var(--sklearn-color-icon);\n",
              "}\n",
              "\n",
              "#sk-container-id-1 label.sk-toggleable__label-arrow:hover:before {\n",
              "  color: var(--sklearn-color-text);\n",
              "}\n",
              "\n",
              "/* Toggleable content - dropdown */\n",
              "\n",
              "#sk-container-id-1 div.sk-toggleable__content {\n",
              "  max-height: 0;\n",
              "  max-width: 0;\n",
              "  overflow: hidden;\n",
              "  text-align: left;\n",
              "  /* unfitted */\n",
              "  background-color: var(--sklearn-color-unfitted-level-0);\n",
              "}\n",
              "\n",
              "#sk-container-id-1 div.sk-toggleable__content.fitted {\n",
              "  /* fitted */\n",
              "  background-color: var(--sklearn-color-fitted-level-0);\n",
              "}\n",
              "\n",
              "#sk-container-id-1 div.sk-toggleable__content pre {\n",
              "  margin: 0.2em;\n",
              "  border-radius: 0.25em;\n",
              "  color: var(--sklearn-color-text);\n",
              "  /* unfitted */\n",
              "  background-color: var(--sklearn-color-unfitted-level-0);\n",
              "}\n",
              "\n",
              "#sk-container-id-1 div.sk-toggleable__content.fitted pre {\n",
              "  /* unfitted */\n",
              "  background-color: var(--sklearn-color-fitted-level-0);\n",
              "}\n",
              "\n",
              "#sk-container-id-1 input.sk-toggleable__control:checked~div.sk-toggleable__content {\n",
              "  /* Expand drop-down */\n",
              "  max-height: 200px;\n",
              "  max-width: 100%;\n",
              "  overflow: auto;\n",
              "}\n",
              "\n",
              "#sk-container-id-1 input.sk-toggleable__control:checked~label.sk-toggleable__label-arrow:before {\n",
              "  content: \"▾\";\n",
              "}\n",
              "\n",
              "/* Pipeline/ColumnTransformer-specific style */\n",
              "\n",
              "#sk-container-id-1 div.sk-label input.sk-toggleable__control:checked~label.sk-toggleable__label {\n",
              "  color: var(--sklearn-color-text);\n",
              "  background-color: var(--sklearn-color-unfitted-level-2);\n",
              "}\n",
              "\n",
              "#sk-container-id-1 div.sk-label.fitted input.sk-toggleable__control:checked~label.sk-toggleable__label {\n",
              "  background-color: var(--sklearn-color-fitted-level-2);\n",
              "}\n",
              "\n",
              "/* Estimator-specific style */\n",
              "\n",
              "/* Colorize estimator box */\n",
              "#sk-container-id-1 div.sk-estimator input.sk-toggleable__control:checked~label.sk-toggleable__label {\n",
              "  /* unfitted */\n",
              "  background-color: var(--sklearn-color-unfitted-level-2);\n",
              "}\n",
              "\n",
              "#sk-container-id-1 div.sk-estimator.fitted input.sk-toggleable__control:checked~label.sk-toggleable__label {\n",
              "  /* fitted */\n",
              "  background-color: var(--sklearn-color-fitted-level-2);\n",
              "}\n",
              "\n",
              "#sk-container-id-1 div.sk-label label.sk-toggleable__label,\n",
              "#sk-container-id-1 div.sk-label label {\n",
              "  /* The background is the default theme color */\n",
              "  color: var(--sklearn-color-text-on-default-background);\n",
              "}\n",
              "\n",
              "/* On hover, darken the color of the background */\n",
              "#sk-container-id-1 div.sk-label:hover label.sk-toggleable__label {\n",
              "  color: var(--sklearn-color-text);\n",
              "  background-color: var(--sklearn-color-unfitted-level-2);\n",
              "}\n",
              "\n",
              "/* Label box, darken color on hover, fitted */\n",
              "#sk-container-id-1 div.sk-label.fitted:hover label.sk-toggleable__label.fitted {\n",
              "  color: var(--sklearn-color-text);\n",
              "  background-color: var(--sklearn-color-fitted-level-2);\n",
              "}\n",
              "\n",
              "/* Estimator label */\n",
              "\n",
              "#sk-container-id-1 div.sk-label label {\n",
              "  font-family: monospace;\n",
              "  font-weight: bold;\n",
              "  display: inline-block;\n",
              "  line-height: 1.2em;\n",
              "}\n",
              "\n",
              "#sk-container-id-1 div.sk-label-container {\n",
              "  text-align: center;\n",
              "}\n",
              "\n",
              "/* Estimator-specific */\n",
              "#sk-container-id-1 div.sk-estimator {\n",
              "  font-family: monospace;\n",
              "  border: 1px dotted var(--sklearn-color-border-box);\n",
              "  border-radius: 0.25em;\n",
              "  box-sizing: border-box;\n",
              "  margin-bottom: 0.5em;\n",
              "  /* unfitted */\n",
              "  background-color: var(--sklearn-color-unfitted-level-0);\n",
              "}\n",
              "\n",
              "#sk-container-id-1 div.sk-estimator.fitted {\n",
              "  /* fitted */\n",
              "  background-color: var(--sklearn-color-fitted-level-0);\n",
              "}\n",
              "\n",
              "/* on hover */\n",
              "#sk-container-id-1 div.sk-estimator:hover {\n",
              "  /* unfitted */\n",
              "  background-color: var(--sklearn-color-unfitted-level-2);\n",
              "}\n",
              "\n",
              "#sk-container-id-1 div.sk-estimator.fitted:hover {\n",
              "  /* fitted */\n",
              "  background-color: var(--sklearn-color-fitted-level-2);\n",
              "}\n",
              "\n",
              "/* Specification for estimator info (e.g. \"i\" and \"?\") */\n",
              "\n",
              "/* Common style for \"i\" and \"?\" */\n",
              "\n",
              ".sk-estimator-doc-link,\n",
              "a:link.sk-estimator-doc-link,\n",
              "a:visited.sk-estimator-doc-link {\n",
              "  float: right;\n",
              "  font-size: smaller;\n",
              "  line-height: 1em;\n",
              "  font-family: monospace;\n",
              "  background-color: var(--sklearn-color-background);\n",
              "  border-radius: 1em;\n",
              "  height: 1em;\n",
              "  width: 1em;\n",
              "  text-decoration: none !important;\n",
              "  margin-left: 0.5em;\n",
              "  text-align: center;\n",
              "  /* unfitted */\n",
              "  border: var(--sklearn-color-unfitted-level-1) 1pt solid;\n",
              "  color: var(--sklearn-color-unfitted-level-1);\n",
              "}\n",
              "\n",
              ".sk-estimator-doc-link.fitted,\n",
              "a:link.sk-estimator-doc-link.fitted,\n",
              "a:visited.sk-estimator-doc-link.fitted {\n",
              "  /* fitted */\n",
              "  border: var(--sklearn-color-fitted-level-1) 1pt solid;\n",
              "  color: var(--sklearn-color-fitted-level-1);\n",
              "}\n",
              "\n",
              "/* On hover */\n",
              "div.sk-estimator:hover .sk-estimator-doc-link:hover,\n",
              ".sk-estimator-doc-link:hover,\n",
              "div.sk-label-container:hover .sk-estimator-doc-link:hover,\n",
              ".sk-estimator-doc-link:hover {\n",
              "  /* unfitted */\n",
              "  background-color: var(--sklearn-color-unfitted-level-3);\n",
              "  color: var(--sklearn-color-background);\n",
              "  text-decoration: none;\n",
              "}\n",
              "\n",
              "div.sk-estimator.fitted:hover .sk-estimator-doc-link.fitted:hover,\n",
              ".sk-estimator-doc-link.fitted:hover,\n",
              "div.sk-label-container:hover .sk-estimator-doc-link.fitted:hover,\n",
              ".sk-estimator-doc-link.fitted:hover {\n",
              "  /* fitted */\n",
              "  background-color: var(--sklearn-color-fitted-level-3);\n",
              "  color: var(--sklearn-color-background);\n",
              "  text-decoration: none;\n",
              "}\n",
              "\n",
              "/* Span, style for the box shown on hovering the info icon */\n",
              ".sk-estimator-doc-link span {\n",
              "  display: none;\n",
              "  z-index: 9999;\n",
              "  position: relative;\n",
              "  font-weight: normal;\n",
              "  right: .2ex;\n",
              "  padding: .5ex;\n",
              "  margin: .5ex;\n",
              "  width: min-content;\n",
              "  min-width: 20ex;\n",
              "  max-width: 50ex;\n",
              "  color: var(--sklearn-color-text);\n",
              "  box-shadow: 2pt 2pt 4pt #999;\n",
              "  /* unfitted */\n",
              "  background: var(--sklearn-color-unfitted-level-0);\n",
              "  border: .5pt solid var(--sklearn-color-unfitted-level-3);\n",
              "}\n",
              "\n",
              ".sk-estimator-doc-link.fitted span {\n",
              "  /* fitted */\n",
              "  background: var(--sklearn-color-fitted-level-0);\n",
              "  border: var(--sklearn-color-fitted-level-3);\n",
              "}\n",
              "\n",
              ".sk-estimator-doc-link:hover span {\n",
              "  display: block;\n",
              "}\n",
              "\n",
              "/* \"?\"-specific style due to the `<a>` HTML tag */\n",
              "\n",
              "#sk-container-id-1 a.estimator_doc_link {\n",
              "  float: right;\n",
              "  font-size: 1rem;\n",
              "  line-height: 1em;\n",
              "  font-family: monospace;\n",
              "  background-color: var(--sklearn-color-background);\n",
              "  border-radius: 1rem;\n",
              "  height: 1rem;\n",
              "  width: 1rem;\n",
              "  text-decoration: none;\n",
              "  /* unfitted */\n",
              "  color: var(--sklearn-color-unfitted-level-1);\n",
              "  border: var(--sklearn-color-unfitted-level-1) 1pt solid;\n",
              "}\n",
              "\n",
              "#sk-container-id-1 a.estimator_doc_link.fitted {\n",
              "  /* fitted */\n",
              "  border: var(--sklearn-color-fitted-level-1) 1pt solid;\n",
              "  color: var(--sklearn-color-fitted-level-1);\n",
              "}\n",
              "\n",
              "/* On hover */\n",
              "#sk-container-id-1 a.estimator_doc_link:hover {\n",
              "  /* unfitted */\n",
              "  background-color: var(--sklearn-color-unfitted-level-3);\n",
              "  color: var(--sklearn-color-background);\n",
              "  text-decoration: none;\n",
              "}\n",
              "\n",
              "#sk-container-id-1 a.estimator_doc_link.fitted:hover {\n",
              "  /* fitted */\n",
              "  background-color: var(--sklearn-color-fitted-level-3);\n",
              "}\n",
              "</style><div id=\"sk-container-id-1\" class=\"sk-top-container\"><div class=\"sk-text-repr-fallback\"><pre>NearestNeighbors(algorithm=&#x27;brute&#x27;, metric=&#x27;cosine&#x27;)</pre><b>In a Jupyter environment, please rerun this cell to show the HTML representation or trust the notebook. <br />On GitHub, the HTML representation is unable to render, please try loading this page with nbviewer.org.</b></div><div class=\"sk-container\" hidden><div class=\"sk-item\"><div class=\"sk-estimator fitted sk-toggleable\"><input class=\"sk-toggleable__control sk-hidden--visually\" id=\"sk-estimator-id-1\" type=\"checkbox\" checked><label for=\"sk-estimator-id-1\" class=\"sk-toggleable__label fitted sk-toggleable__label-arrow\"><div><div>NearestNeighbors</div></div><div><a class=\"sk-estimator-doc-link fitted\" rel=\"noreferrer\" target=\"_blank\" href=\"https://scikit-learn.org/1.6/modules/generated/sklearn.neighbors.NearestNeighbors.html\">?<span>Documentation for NearestNeighbors</span></a><span class=\"sk-estimator-doc-link fitted\">i<span>Fitted</span></span></div></label><div class=\"sk-toggleable__content fitted\"><pre>NearestNeighbors(algorithm=&#x27;brute&#x27;, metric=&#x27;cosine&#x27;)</pre></div> </div></div></div></div>"
            ]
          },
          "metadata": {},
          "execution_count": 15
        }
      ]
    },
    {
      "cell_type": "markdown",
      "source": [
        "### Make a Recommendation Function\n"
      ],
      "metadata": {
        "id": "eAeEuvRW_nXO"
      }
    },
    {
      "cell_type": "code",
      "source": [
        "def recommend_movies(user_id, knn_model, normalized_matrix, raw_matrix,\n",
        "                     num_neighbors=5, num_recommendations=5):\n",
        "    \"\"\"\n",
        "    Recommend movies for a given user using a weighted k-NN approach.\n",
        "\n",
        "    Parameters:\n",
        "      - user_id: int, target user's ID.\n",
        "      - knn_model: trained NearestNeighbors model (trained on normalized_matrix).\n",
        "      - normalized_matrix: DataFrame with mean-centered ratings.\n",
        "      - raw_matrix: DataFrame with original ratings (to filter out already rated movies).\n",
        "      - num_neighbors: number of neighbors to consider.\n",
        "      - num_recommendations: number of movie recommendations to return.\n",
        "\n",
        "    Returns:\n",
        "      - List of recommended movie titles.\n",
        "    \"\"\"\n",
        "    # Ensure the user exists in the normalized matrix\n",
        "    try:\n",
        "        user_index = normalized_matrix.index.get_loc(user_id)\n",
        "    except KeyError:\n",
        "        return []\n",
        "\n",
        "    # Get the target user's normalized rating vector (reshaped to 2D array)\n",
        "    user_vector = normalized_matrix.iloc[user_index].to_numpy().reshape(1, -1)\n",
        "\n",
        "    # Find nearest neighbors (adding 1 because the user is included in neighbors)\n",
        "    distances, indices = knn_model.kneighbors(user_vector, n_neighbors=num_neighbors+1)\n",
        "    neighbor_indices = indices[0][1:]  # Exclude the user itself\n",
        "    # Convert distances to similarities (for cosine, similarity = 1 - distance)\n",
        "    neighbor_similarities = 1 - distances[0][1:]\n",
        "\n",
        "    # Accumulate weighted scores for each movie from neighbors\n",
        "    recommended_scores = {}\n",
        "    for sim, neighbor_idx in zip(neighbor_similarities, neighbor_indices):\n",
        "        neighbor_ratings = normalized_matrix.iloc[neighbor_idx]\n",
        "        for movie, rating in neighbor_ratings.items():\n",
        "            if rating != 0:\n",
        "                recommended_scores[movie] = recommended_scores.get(movie, 0) + sim * rating\n",
        "\n",
        "    # Exclude movies the user has already rated (using raw ratings)\n",
        "    already_rated = set(raw_matrix.loc[user_id][raw_matrix.loc[user_id] > 0].index)\n",
        "    filtered_scores = {movie: score for movie, score in recommended_scores.items() if movie not in already_rated}\n",
        "\n",
        "    # Sort the movies by aggregated weighted score (descending) and return top recommendations\n",
        "    recommended_movies = sorted(filtered_scores, key=filtered_scores.get, reverse=True)[:num_recommendations]\n",
        "    return recommended_movies\n",
        "\n",
        "\n"
      ],
      "metadata": {
        "id": "y9sJE1O1_qtm"
      },
      "execution_count": 16,
      "outputs": []
    },
    {
      "cell_type": "code",
      "source": [
        "# Example: Generate recommendations for a specific user (e.g., user 10)\n",
        "user_id = 10  # Change this as needed\n",
        "\n",
        "# Use the recommendation function with:\n",
        "# - The k-NN model (knn)\n",
        "# - The normalized training matrix (normalized_matrix)\n",
        "# - The raw (un-normalized) training matrix (train_user_movie_matrix) for filtering\n",
        "recommendations = recommend_movies(user_id, knn, normalized_matrix, train_user_movie_matrix,\n",
        "                                   num_neighbors=5, num_recommendations=5)\n",
        "print(\"Recommendations for user\", user_id, \":\", recommendations)\n"
      ],
      "metadata": {
        "colab": {
          "base_uri": "https://localhost:8080/"
        },
        "id": "RHja4Q8w2zzs",
        "outputId": "000e64f2-dc6b-4a4b-ad8d-0769a58e6a20"
      },
      "execution_count": 17,
      "outputs": [
        {
          "output_type": "stream",
          "name": "stdout",
          "text": [
            "Recommendations for user 10 : ['Casablanca (1942)', 'Cool Hand Luke (1967)', 'Boot, Das (1981)', 'Star Wars (1977)', 'Thin Man, The (1934)']\n"
          ]
        }
      ]
    },
    {
      "cell_type": "markdown",
      "source": [
        "### Evaluate the Model\n",
        "\n",
        "For evaluation, we'll compare the recommendations against the movies each user rated in the test set using the following metrics:\n",
        "\n",
        "* Precision@k = Number of recommended movies that appear in the test set/Total # of recommended movies (k)\n",
        "* Recall@k = For each user, we calculate the fraction of movies in the ground truth that appear in the recommendations.\n",
        "* Mean Average Precision (MAP) = The MAP is then computed as the mean of the Average Precision scores across all evaluated users. The average_precision function goes through the ordered list of recommendations and, each time a relevant movie is encountered, computes the precision up to that point. These values are averaged over the total number of relevant items for that user."
      ],
      "metadata": {
        "id": "4Gb7jUb-ACBt"
      }
    },
    {
      "cell_type": "code",
      "source": [
        "def average_precision(recs, ground_truth):\n",
        "    \"\"\"\n",
        "    Compute Average Precision for a single user's recommendations.\n",
        "\n",
        "    Parameters:\n",
        "      - recs: List of recommended movies (ordered by predicted relevance).\n",
        "      - ground_truth: Set (or list) of movies that are relevant (e.g., movies the user rated in the test set).\n",
        "\n",
        "    Returns:\n",
        "      - Average Precision for the user.\n",
        "    \"\"\"\n",
        "    if not ground_truth:\n",
        "        return 0.0  # Avoid division by zero if there are no relevant items\n",
        "\n",
        "    hit_count = 0\n",
        "    precision_sum = 0.0\n",
        "    for i, movie in enumerate(recs, start=1):\n",
        "        if movie in ground_truth:\n",
        "            hit_count += 1\n",
        "            precision_sum += hit_count / i\n",
        "    # Average over the total number of relevant items (ground_truth)\n",
        "    return precision_sum / len(ground_truth)\n"
      ],
      "metadata": {
        "id": "AFQMSBD0hIg4"
      },
      "execution_count": 18,
      "outputs": []
    },
    {
      "cell_type": "code",
      "source": [
        "k = 5  # Number of recommendations per user\n",
        "precision_scores = []\n",
        "recall_scores = []\n",
        "average_precision_scores = []\n",
        "\n",
        "# Identify users that are common to both training and test sets\n",
        "common_users = set(df_test['userId']).intersection(train_user_movie_matrix.index)\n",
        "\n",
        "for user in common_users:\n",
        "    # Ground truth: movies that the user rated in the test set\n",
        "    ground_truth = set(df_test[df_test['userId'] == user]['title'])\n",
        "\n",
        "    # Get recommendations for the user from the training-based model\n",
        "    recs = recommend_movies(user, knn, normalized_matrix, train_user_movie_matrix,\n",
        "                            num_neighbors=5, num_recommendations=k)\n",
        "\n",
        "    if recs:\n",
        "        # Precision@k: fraction of recommended movies that are in the ground truth\n",
        "        precision = len(set(recs) & ground_truth) / len(recs)\n",
        "        precision_scores.append(precision)\n",
        "\n",
        "        # Recall@k: fraction of the ground truth movies that are recommended\n",
        "        recall = len(set(recs) & ground_truth) / len(ground_truth) if ground_truth else 0\n",
        "        recall_scores.append(recall)\n",
        "\n",
        "        # Compute Average Precision for this user\n",
        "        ap = average_precision(recs, ground_truth)\n",
        "        average_precision_scores.append(ap)\n",
        "\n",
        "# Compute average metrics across users\n",
        "if precision_scores:\n",
        "    avg_precision = np.mean(precision_scores)\n",
        "    avg_recall = np.mean(recall_scores)\n",
        "    MAP = np.mean(average_precision_scores)\n",
        "\n",
        "    print(\"Average Precision@{}: {:.2f}\".format(k, avg_precision))\n",
        "    print(\"Average Recall@{}: {:.2f}\".format(k, avg_recall))\n",
        "    print(\"Mean Average Precision (MAP): {:.2f}\".format(MAP))\n",
        "else:\n",
        "    print(\"No common users for evaluation.\")\n"
      ],
      "metadata": {
        "colab": {
          "base_uri": "https://localhost:8080/"
        },
        "id": "Cyx85BJKO2VR",
        "outputId": "1050212a-a215-48f6-e89c-b308a0615211"
      },
      "execution_count": 19,
      "outputs": [
        {
          "output_type": "stream",
          "name": "stdout",
          "text": [
            "Average Precision@5: 0.32\n",
            "Average Recall@5: 0.10\n",
            "Mean Average Precision (MAP): 0.07\n"
          ]
        }
      ]
    },
    {
      "cell_type": "code",
      "source": [
        "# Experiment with a range of neighbor values\n",
        "for num_neighbors in [5, 10, 15]:\n",
        "    precision_list = []\n",
        "    recall_list = []\n",
        "    map_list = []\n",
        "    for user in common_users:\n",
        "        ground_truth = set(df_test[df_test['userId'] == user]['title'])\n",
        "        recs = recommend_movies(user, knn, normalized_matrix, train_user_movie_matrix,\n",
        "                                num_neighbors=num_neighbors, num_recommendations=k)\n",
        "        if recs:\n",
        "            precision = len(set(recs) & ground_truth) / len(recs)\n",
        "            recall = len(set(recs) & ground_truth) / len(ground_truth) if ground_truth else 0\n",
        "            ap = average_precision(recs, ground_truth)\n",
        "            precision_list.append(precision)\n",
        "            recall_list.append(recall)\n",
        "            map_list.append(ap)\n",
        "    print(f\"Neighbors: {num_neighbors}\")\n",
        "    print(\"Avg Precision@{}: {:.2f}\".format(k, np.mean(precision_list)))\n",
        "    print(\"Avg Recall@{}: {:.2f}\".format(k, np.mean(recall_list)))\n",
        "    print(\"MAP: {:.2f}\".format(np.mean(map_list)))\n"
      ],
      "metadata": {
        "colab": {
          "base_uri": "https://localhost:8080/"
        },
        "id": "GBdefloOtmpJ",
        "outputId": "3e816cc4-a3a6-4180-bd64-c4d45e0f4067"
      },
      "execution_count": 23,
      "outputs": [
        {
          "output_type": "stream",
          "name": "stdout",
          "text": [
            "Neighbors: 5\n",
            "Avg Precision@5: 0.32\n",
            "Avg Recall@5: 0.10\n",
            "MAP: 0.07\n",
            "Neighbors: 10\n",
            "Avg Precision@5: 0.35\n",
            "Avg Recall@5: 0.12\n",
            "MAP: 0.08\n",
            "Neighbors: 15\n",
            "Avg Precision@5: 0.37\n",
            "Avg Recall@5: 0.12\n",
            "MAP: 0.09\n"
          ]
        }
      ]
    },
    {
      "cell_type": "code",
      "source": [
        "# Visualize Precision Distribution:\n",
        "\n",
        "plt.figure(figsize=(8, 4))\n",
        "sns.histplot(precision_scores, bins=10, kde=True)\n",
        "plt.title(\"Distribution of Precision@{}\".format(k))\n",
        "plt.xlabel(\"Precision@{}\".format(k))\n",
        "plt.ylabel(\"Number of Users\")\n",
        "plt.show()\n"
      ],
      "metadata": {
        "colab": {
          "base_uri": "https://localhost:8080/",
          "height": 410
        },
        "id": "JWWIqVxNQBDz",
        "outputId": "6b64d551-5694-4877-ffc4-b5bcef0b2d9c"
      },
      "execution_count": 20,
      "outputs": [
        {
          "output_type": "display_data",
          "data": {
            "text/plain": [
              "<Figure size 800x400 with 1 Axes>"
            ],
            "image/png": "[encoded data removed]"
          },
          "metadata": {}
        }
      ]
    },
    {
      "cell_type": "markdown",
      "source": [
        "# Optimized k‑NN model using an approximate nearest neighbor library (Annoy)"
      ],
      "metadata": {
        "id": "MYpCWAHgvHvI"
      }
    },
    {
      "cell_type": "code",
      "source": [
        "# Install Annoy (if not already installed)\n",
        "# !pip install annoy"
      ],
      "metadata": {
        "colab": {
          "base_uri": "https://localhost:8080/"
        },
        "id": "hM_SiKsQvLlB",
        "outputId": "5f26c777-7322-400c-9611-a11783f65acb"
      },
      "execution_count": 24,
      "outputs": [
        {
          "output_type": "stream",
          "name": "stdout",
          "text": [
            "Collecting annoy\n",
            "  Downloading annoy-1.17.3.tar.gz (647 kB)\n",
            "\u001b[?25l     \u001b[90m━━━━━━━━━━━━━━━━━━━━━━━━━━━━━━━━━━━━━━━━\u001b[0m \u001b[32m0.0/647.5 kB\u001b[0m \u001b[31m?\u001b[0m eta \u001b[36m-:--:--\u001b[0m\r\u001b[2K     \u001b[91m━━━━━━━━\u001b[0m\u001b[90m╺\u001b[0m\u001b[90m━━━━━━━━━━━━━━━━━━━━━━━━━━━━━━━\u001b[0m \u001b[32m133.1/647.5 kB\u001b[0m \u001b[31m3.7 MB/s\u001b[0m eta \u001b[36m0:00:01\u001b[0m\r\u001b[2K     \u001b[91m━━━━━━━━━━━━━━━━━━━━━━━━━━━━━━━━━━━━━━━\u001b[0m\u001b[91m╸\u001b[0m \u001b[32m645.1/647.5 kB\u001b[0m \u001b[31m10.9 MB/s\u001b[0m eta \u001b[36m0:00:01\u001b[0m\r\u001b[2K     \u001b[90m━━━━━━━━━━━━━━━━━━━━━━━━━━━━━━━━━━━━━━━━\u001b[0m \u001b[32m647.5/647.5 kB\u001b[0m \u001b[31m8.8 MB/s\u001b[0m eta \u001b[36m0:00:00\u001b[0m\n",
            "\u001b[?25h  Preparing metadata (setup.py) ... \u001b[?25l\u001b[?25hdone\n",
            "Building wheels for collected packages: annoy\n",
            "  Building wheel for annoy (setup.py) ... \u001b[?25l\u001b[?25hdone\n",
            "  Created wheel for annoy: filename=annoy-1.17.3-cp311-cp311-linux_x86_64.whl size=553117 sha256=4e71fac17fa85f111facd3f19873ecd88f5cacef2037b0a4395607f2966e557f\n",
            "  Stored in directory: /root/.cache/pip/wheels/33/e5/58/0a3e34b92bedf09b4c57e37a63ff395ade6f6c1099ba59877c\n",
            "Successfully built annoy\n",
            "Installing collected packages: annoy\n",
            "Successfully installed annoy-1.17.3\n"
          ]
        }
      ]
    },
    {
      "cell_type": "code",
      "source": [
        "from annoy import AnnoyIndex\n",
        "\n",
        "# Determine the number of dimensions (number of movies in the matrix)\n",
        "dims = normalized_matrix.shape[1]\n",
        "\n",
        "# Initialize the Annoy index with the angular (cosine-like) metric\n",
        "annoy_index = AnnoyIndex(dims, 'angular')\n",
        "\n",
        "# Convert the normalized matrix to a NumPy array\n",
        "normalized_array = normalized_matrix.to_numpy()\n",
        "num_users = normalized_array.shape[0]\n",
        "\n",
        "# Add each user's rating vector to the Annoy index\n",
        "for i in range(num_users):\n",
        "    annoy_index.add_item(i, normalized_array[i])\n",
        "\n",
        "# Build the Annoy index (tuning the number of trees can affect both speed and accuracy)\n",
        "n_trees = 10  # Try increasing this value if you need better accuracy at the cost of slower indexing\n",
        "annoy_index.build(n_trees)\n",
        "\n",
        "print(\"Annoy index built with {} items and {} dimensions.\".format(num_users, dims))\n"
      ],
      "metadata": {
        "colab": {
          "base_uri": "https://localhost:8080/"
        },
        "id": "N_lE9p4ovVqI",
        "outputId": "6365e5a9-31ca-4b91-cbbe-e698c0ad93a3"
      },
      "execution_count": 25,
      "outputs": [
        {
          "output_type": "stream",
          "name": "stdout",
          "text": [
            "Annoy index built with 943 items and 1289 dimensions.\n"
          ]
        }
      ]
    },
    {
      "cell_type": "markdown",
      "source": [
        "## Define the Recommendation Function Using Annoy"
      ],
      "metadata": {
        "id": "UyFDvxDhvrUj"
      }
    },
    {
      "cell_type": "code",
      "source": [
        "def recommend_movies_annoy(user_id, annoy_index, normalized_matrix, raw_matrix,\n",
        "                           num_neighbors=5, num_recommendations=5):\n",
        "    \"\"\"\n",
        "    Recommend movies for a given user using an Annoy-based k-NN model.\n",
        "\n",
        "    Parameters:\n",
        "      - user_id: int, the target user's ID.\n",
        "      - annoy_index: an AnnoyIndex built on the normalized user-movie matrix.\n",
        "      - normalized_matrix: DataFrame with mean-centered (normalized) ratings.\n",
        "      - raw_matrix: DataFrame with original ratings (to filter out already rated movies).\n",
        "      - num_neighbors: number of nearest neighbors to consider.\n",
        "      - num_recommendations: number of movie recommendations to return.\n",
        "\n",
        "    Returns:\n",
        "      - A list of recommended movie titles.\n",
        "    \"\"\"\n",
        "    try:\n",
        "        user_index = normalized_matrix.index.get_loc(user_id)\n",
        "    except KeyError:\n",
        "        return []\n",
        "\n",
        "    # Get the target user's normalized vector\n",
        "    user_vector = normalized_matrix.iloc[user_index].to_numpy()\n",
        "\n",
        "    # Retrieve nearest neighbors using Annoy\n",
        "    # Note: Annoy includes the query item itself, so we ask for one extra neighbor.\n",
        "    neighbor_indices, distances = annoy_index.get_nns_by_vector(user_vector, num_neighbors+1, include_distances=True)\n",
        "\n",
        "    # Exclude the user itself if present\n",
        "    if neighbor_indices[0] == user_index:\n",
        "        neighbor_indices = neighbor_indices[1:]\n",
        "        distances = distances[1:]\n",
        "    else:\n",
        "        neighbor_indices = neighbor_indices[:-1]\n",
        "        distances = distances[:-1]\n",
        "\n",
        "    # Aggregate weighted scores from neighbors\n",
        "    recommended_scores = {}\n",
        "    for neighbor_idx, dist in zip(neighbor_indices, distances):\n",
        "        # Convert distance to a similarity score.\n",
        "        # One simple way: similarity = 1 / (1 + distance)\n",
        "        similarity = 1 / (1 + dist)\n",
        "        neighbor_ratings = normalized_matrix.iloc[neighbor_idx]\n",
        "        # For each movie that the neighbor has rated (non-zero normalized rating)\n",
        "        for movie, rating in neighbor_ratings.items():\n",
        "            if rating != 0:\n",
        "                recommended_scores[movie] = recommended_scores.get(movie, 0) + similarity * rating\n",
        "\n",
        "    # Exclude movies that the user has already rated (using raw ratings)\n",
        "    already_rated = set(raw_matrix.loc[user_id][raw_matrix.loc[user_id] > 0].index)\n",
        "    filtered_scores = {movie: score for movie, score in recommended_scores.items() if movie not in already_rated}\n",
        "\n",
        "    # Sort movies by the aggregated weighted score and select the top recommendations\n",
        "    recommended_movies = sorted(filtered_scores, key=filtered_scores.get, reverse=True)[:num_recommendations]\n",
        "    return recommended_movies\n",
        "\n",
        "# Example usage:\n",
        "user_id = 10  # Change this to test with a different user ID\n",
        "annoy_recs = recommend_movies_annoy(user_id, annoy_index, normalized_matrix, train_user_movie_matrix,\n",
        "                                    num_neighbors=10, num_recommendations=5)\n",
        "print(\"Annoy-based recommendations for user\", user_id, \":\", annoy_recs)\n",
        "\n",
        "print(\"original KNN model output for user 10:\")\n",
        "print(\"['Casablanca (1942)', 'Cool Hand Luke (1967)', 'Boot, Das (1981)', 'Star Wars (1977)', 'Thin Man, The (1934)']\")\n",
        "\n"
      ],
      "metadata": {
        "colab": {
          "base_uri": "https://localhost:8080/"
        },
        "id": "mSGjJeNJvowZ",
        "outputId": "89dd7e6e-af7b-4cdd-a77f-9aaad0ac2d32"
      },
      "execution_count": 30,
      "outputs": [
        {
          "output_type": "stream",
          "name": "stdout",
          "text": [
            "Annoy-based recommendations for user 10 : ['Star Wars (1977)', 'Cool Hand Luke (1967)', 'Annie Hall (1977)', 'Boot, Das (1981)', 'To Kill a Mockingbird (1962)']\n",
            "original KNN model output for user 10:\n",
            "['Casablanca (1942)', 'Cool Hand Luke (1967)', 'Boot, Das (1981)', 'Star Wars (1977)', 'Thin Man, The (1934)']\n"
          ]
        }
      ]
    },
    {
      "cell_type": "markdown",
      "source": [
        "### Evaluate Annoy-based model"
      ],
      "metadata": {
        "id": "efzCDfCax87u"
      }
    },
    {
      "cell_type": "markdown",
      "source": [],
      "metadata": {
        "id": "2WEJzjuWxhgB"
      }
    },
    {
      "cell_type": "code",
      "source": [
        "k = 5  # Number of recommendations per user for evaluation\n",
        "precision_scores = []\n",
        "recall_scores = []\n",
        "average_precision_scores = []\n",
        "\n",
        "# Identify users that are common to both training and test sets\n",
        "common_users = set(df_test['userId']).intersection(train_user_movie_matrix.index)\n",
        "\n",
        "def average_precision(recs, ground_truth):\n",
        "    if not ground_truth:\n",
        "        return 0.0\n",
        "    hit_count = 0\n",
        "    precision_sum = 0.0\n",
        "    for i, movie in enumerate(recs, start=1):\n",
        "        if movie in ground_truth:\n",
        "            hit_count += 1\n",
        "            precision_sum += hit_count / i\n",
        "    return precision_sum / len(ground_truth)\n",
        "\n",
        "for user in common_users:\n",
        "    ground_truth = set(df_test[df_test['userId'] == user]['title'])\n",
        "    recs = recommend_movies_annoy(user, annoy_index, normalized_matrix, train_user_movie_matrix,\n",
        "                                  num_neighbors=10, num_recommendations=k)\n",
        "    if recs:\n",
        "        precision = len(set(recs) & ground_truth) / len(recs)\n",
        "        recall = len(set(recs) & ground_truth) / len(ground_truth) if ground_truth else 0\n",
        "        ap = average_precision(recs, ground_truth)\n",
        "        precision_scores.append(precision)\n",
        "        recall_scores.append(recall)\n",
        "        average_precision_scores.append(ap)\n",
        "\n",
        "if precision_scores:\n",
        "    avg_precision = np.mean(precision_scores)\n",
        "    avg_recall = np.mean(recall_scores)\n",
        "    MAP = np.mean(average_precision_scores)\n",
        "    print(\"Annoy-based model - Average Precision@{}: {:.2f}\".format(k, avg_precision))\n",
        "    print(\"Annoy-based model - Average Recall@{}: {:.2f}\".format(k, avg_recall))\n",
        "    print(\"Annoy-based model - MAP: {:.2f}\".format(MAP))\n",
        "else:\n",
        "    print(\"No common users for evaluation.\")\n"
      ],
      "metadata": {
        "colab": {
          "base_uri": "https://localhost:8080/"
        },
        "id": "VxR7VMLsxgbA",
        "outputId": "df88a0b0-303d-4c5c-c435-bf395aeb187e"
      },
      "execution_count": 32,
      "outputs": [
        {
          "output_type": "stream",
          "name": "stdout",
          "text": [
            "Annoy-based model - Average Precision@5: 0.35\n",
            "Annoy-based model - Average Recall@5: 0.12\n",
            "Annoy-based model - MAP: 0.08\n"
          ]
        }
      ]
    },
    {
      "cell_type": "markdown",
      "source": [
        "# Matrix Factorization - SVD"
      ],
      "metadata": {
        "id": "Iav5wf0ZbiTs"
      }
    },
    {
      "cell_type": "code",
      "source": [
        "from sklearn.decomposition import TruncatedSVD\n",
        "\n",
        "# svd = TruncatedSVD(n_components=50, random_state=42)\n",
        "# matrix_svd = svd.fit_transform(user_movie_matrix)\n"
      ],
      "metadata": {
        "id": "hy9QLMZDboGD"
      },
      "execution_count": 22,
      "outputs": []
    },
    {
      "cell_type": "markdown",
      "source": [
        "# Build Out Interactive UI"
      ],
      "metadata": {
        "id": "oSpV0dZfROnr"
      }
    },
    {
      "cell_type": "code",
      "source": [
        "import ipywidgets as widgets\n",
        "from IPython.display import display, clear_output\n",
        "\n",
        "def get_recommendations(b):\n",
        "    try:\n",
        "        user_id = int(user_id_widget.value)\n",
        "    except ValueError:\n",
        "        with output:\n",
        "            clear_output()\n",
        "            print(\"Please enter a valid numeric User ID.\")\n",
        "        return\n",
        "\n",
        "    # Get recommendations for the given user_id (using your pre-trained knn and train_user_movie_matrix)\n",
        "    recs = recommend_movies(user_id, knn, train_user_movie_matrix, num_neighbors=5, num_recommendations=5)\n",
        "\n",
        "    with output:\n",
        "        clear_output()\n",
        "        if recs:\n",
        "            print(\"Recommendations for user\", user_id, \":\", recs)\n",
        "        else:\n",
        "            print(\"No recommendations available for user\", user_id)\n"
      ],
      "metadata": {
        "id": "gaUV4O3ONbuc"
      },
      "execution_count": null,
      "outputs": []
    },
    {
      "cell_type": "code",
      "source": [
        "# Widget for entering user ID\n",
        "user_id_widget = widgets.Text(\n",
        "    value=\"10\",\n",
        "    description=\"User ID:\",\n",
        "    placeholder=\"Enter a user ID\"\n",
        ")\n",
        "\n",
        "# Button to get recommendations\n",
        "button = widgets.Button(\n",
        "    description=\"Get Recommendations\",\n",
        "    button_style=\"success\"  # Optional: gives the button a green color\n",
        ")\n",
        "\n",
        "# Output area to display recommendations\n",
        "output = widgets.Output()\n",
        "\n",
        "# Link the button click event to the recommendation function\n",
        "button.on_click(get_recommendations)\n"
      ],
      "metadata": {
        "id": "88QAss3wRa6R"
      },
      "execution_count": null,
      "outputs": []
    },
    {
      "cell_type": "code",
      "source": [
        "display(user_id_widget, button, output)"
      ],
      "metadata": {
        "id": "kIBxMNgsRhHt"
      },
      "execution_count": null,
      "outputs": []
    },
    {
      "cell_type": "markdown",
      "source": [],
      "metadata": {
        "id": "ua1gpeXyLxca"
      }
    }
  ]
}